{
 "cells": [
  {
   "cell_type": "code",
   "execution_count": 40,
   "metadata": {
    "scrolled": true
   },
   "outputs": [
    {
     "data": {
      "image/png": "[encoded data removed]",
      "text/plain": [
       "<Figure size 216x180 with 2 Axes>"
      ]
     },
     "metadata": {
      "needs_background": "light"
     },
     "output_type": "display_data"
    }
   ],
   "source": [
    "tbl_sig = open('15Month_vs_6Month_selected.fastq.trimmed.RAT_ens98_longest_cDNA.BWA.SAMBestCount.glmQLFit.RobustDisp.edgeR_clean.txt','r')\n",
    "tbl = open('Rat_Brain_15M_6M_6W_rpkm_GeneName.txt','r')\n",
    "\n",
    "Iron_up = []\n",
    "Iron_down = []\n",
    "Iron_up_x = []\n",
    "Iron_up_y = []\n",
    "Iron_down_x = []\n",
    "Iron_down_y = []\n",
    "tbl_sig.readline()\n",
    "for line in tbl_sig:\n",
    "    tokens = line.strip().split('\\t')\n",
    "    GeneName = tokens[0]\n",
    "    logFC = float(tokens[1])\n",
    "    if logFC > 1:\n",
    "        Iron_up.append(GeneName)\n",
    "    else:\n",
    "        Iron_down.append(GeneName)\n",
    "tbl_sig.close()\n",
    "\n",
    "import math\n",
    "Iron_unsig_x = []\n",
    "Iron_unsig_y = []\n",
    "tbl.readline()\n",
    "for line in tbl:\n",
    "    tokens = line.strip().split('\\t')\n",
    "    GeneName = tokens[0]\n",
    "    RPKM_x = [float(x) for x in tokens[9:17]]\n",
    "    RPKM_x_val = math.log(sum(RPKM_x,0.0)/len(RPKM_x)+1,2)\n",
    "    RPKM_y = [float(x) for x in tokens[1:9]] \n",
    "    RPKM_y_val = math.log(sum(RPKM_y,0.0)/len(RPKM_y)+1,2)\n",
    "    if GeneName in Iron_up:\n",
    "        Iron_up_x.append(RPKM_x_val)\n",
    "        Iron_up_y.append(RPKM_y_val)\n",
    "    elif GeneName in Iron_down:\n",
    "        Iron_down_x.append(RPKM_x_val)\n",
    "        Iron_down_y.append(RPKM_y_val)\n",
    "    else:\n",
    "        Iron_unsig_x.append(RPKM_x_val)\n",
    "        Iron_unsig_y.append(RPKM_y_val)\n",
    "tbl.close()\n",
    "\n",
    "from matplotlib import pyplot as plt\n",
    "from matplotlib.colors import LinearSegmentedColormap\n",
    "\n",
    "black2grey = LinearSegmentedColormap.from_list('black2grey', [\n",
    "    (0, '#ffffff'),\n",
    "    (1e-20, '#e5e5e5'),\n",
    "    (0.2, '#b2b2b2'),\n",
    "    (0.4, '#7f7f7f'),\n",
    "    (0.6, '#4c4c4c'),\n",
    "    (0.8, '#191919'),\n",
    "    (1, '#000000'),\n",
    "], N=256)\n",
    "\n",
    "import numpy as np\n",
    "\n",
    "x = np.array(Iron_unsig_x)\n",
    "y = np.array(Iron_unsig_y)\n",
    "plt.hist2d(x,y,(100,100), vmin = 0, vmax = 100,cmap = black2grey)\n",
    "plt.colorbar()\n",
    "plt.scatter(x = Iron_up_x, y = Iron_up_y, c='r', s=5)\n",
    "plt.scatter(x = Iron_down_x, y = Iron_down_y, c = 'b', s=5)\n",
    "plt.rcParams[\"figure.figsize\"] = (3,2.5)\n",
    "plt.rcParams['font.size'] = 9\n",
    "plt.savefig('15Month_vs_6Month_DEG_scatterplot_matplotlib_KDE.pdf')"
   ]
  }
 ],
 "metadata": {
  "kernelspec": {
   "display_name": "Python 3",
   "language": "python",
   "name": "python3"
  },
  "language_info": {
   "codemirror_mode": {
    "name": "ipython",
    "version": 3
   },
   "file_extension": ".py",
   "mimetype": "text/x-python",
   "name": "python",
   "nbconvert_exporter": "python",
   "pygments_lexer": "ipython3",
   "version": "3.6.9"
  }
 },
 "nbformat": 4,
 "nbformat_minor": 4
}
